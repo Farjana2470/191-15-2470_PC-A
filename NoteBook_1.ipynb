{
  "nbformat": 4,
  "nbformat_minor": 0,
  "metadata": {
    "colab": {
      "name": "NoteBook 1.ipynb",
      "provenance": [],
      "collapsed_sections": [],
      "authorship_tag": "ABX9TyPiSqANsZTXdCSIe/wXhURy",
      "include_colab_link": true
    },
    "kernelspec": {
      "display_name": "Python 3",
      "name": "python3"
    }
  },
  "cells": [
    {
      "cell_type": "markdown",
      "metadata": {
        "id": "view-in-github",
        "colab_type": "text"
      },
      "source": [
        "<a href=\"https://colab.research.google.com/github/Farjana2470/191-15-2470_PC-A/blob/main/NoteBook_1.ipynb\" target=\"_parent\"><img src=\"https://colab.research.google.com/assets/colab-badge.svg\" alt=\"Open In Colab\"/></a>"
      ]
    },
    {
      "cell_type": "code",
      "metadata": {
        "colab": {
          "base_uri": "https://localhost:8080/"
        },
        "id": "hsLZjb7Dn2Gl",
        "outputId": "cd78936a-2cb8-44d9-cf16-5bb06726d7b7"
      },
      "source": [
        "print(\"Hello World\")\r\n"
      ],
      "execution_count": null,
      "outputs": [
        {
          "output_type": "stream",
          "text": [
            "Hello World\n"
          ],
          "name": "stdout"
        }
      ]
    },
    {
      "cell_type": "code",
      "metadata": {
        "colab": {
          "base_uri": "https://localhost:8080/"
        },
        "id": "w4B96WfqoRXy",
        "outputId": "42485062-934a-4dd0-9ad3-05775c81e01a"
      },
      "source": [
        "x=7\r\n",
        "y=3\r\n",
        "print(x+y)\r\n",
        "\r\n"
      ],
      "execution_count": null,
      "outputs": [
        {
          "output_type": "stream",
          "text": [
            "10\n"
          ],
          "name": "stdout"
        }
      ]
    },
    {
      "cell_type": "code",
      "metadata": {
        "colab": {
          "base_uri": "https://localhost:8080/"
        },
        "id": "qAmK2hRcouVb",
        "outputId": "932be429-a056-44f8-c7ae-4c6e3ebc79e6"
      },
      "source": [
        "\r\n",
        "total = x+y\r\n",
        "print(total)\r\n"
      ],
      "execution_count": null,
      "outputs": [
        {
          "output_type": "stream",
          "text": [
            "10\n"
          ],
          "name": "stdout"
        }
      ]
    },
    {
      "cell_type": "code",
      "metadata": {
        "colab": {
          "base_uri": "https://localhost:8080/"
        },
        "id": "eJqPC4t0vApc",
        "outputId": "304e8e67-ac4e-4783-f11c-c06125afe059"
      },
      "source": [
        "name = \"Adam\"\r\n",
        "name2 = \"Eva\"\r\n",
        "print(name , name2)\r\n",
        "\r\n"
      ],
      "execution_count": null,
      "outputs": [
        {
          "output_type": "stream",
          "text": [
            "Adam Eva\n"
          ],
          "name": "stdout"
        }
      ]
    },
    {
      "cell_type": "code",
      "metadata": {
        "colab": {
          "base_uri": "https://localhost:8080/"
        },
        "id": "p5L8nfiLvVWt",
        "outputId": "751566b8-d936-412c-f250-23b89971aa3b"
      },
      "source": [
        "x =10\r\n",
        "type(x)\r\n"
      ],
      "execution_count": null,
      "outputs": [
        {
          "output_type": "execute_result",
          "data": {
            "text/plain": [
              "int"
            ]
          },
          "metadata": {
            "tags": []
          },
          "execution_count": 8
        }
      ]
    },
    {
      "cell_type": "code",
      "metadata": {
        "colab": {
          "base_uri": "https://localhost:8080/"
        },
        "id": "GH2O9UWdvfxz",
        "outputId": "b6d23983-4ef1-4593-bcd6-3fa900f3987a"
      },
      "source": [
        "\r\n",
        "type(10.5)\r\n"
      ],
      "execution_count": null,
      "outputs": [
        {
          "output_type": "execute_result",
          "data": {
            "text/plain": [
              "float"
            ]
          },
          "metadata": {
            "tags": []
          },
          "execution_count": 9
        }
      ]
    },
    {
      "cell_type": "code",
      "metadata": {
        "colab": {
          "base_uri": "https://localhost:8080/"
        },
        "id": "ewA2uMYrvpRn",
        "outputId": "a6c3b93f-8f2d-424a-8d81-cc8419b8381d"
      },
      "source": [
        "\r\n",
        "type(name)\r\n"
      ],
      "execution_count": null,
      "outputs": [
        {
          "output_type": "execute_result",
          "data": {
            "text/plain": [
              "str"
            ]
          },
          "metadata": {
            "tags": []
          },
          "execution_count": 10
        }
      ]
    },
    {
      "cell_type": "code",
      "metadata": {
        "colab": {
          "base_uri": "https://localhost:8080/"
        },
        "id": "pkSL-I5Ov_76",
        "outputId": "a6cfc8f5-ee0d-485b-dc42-a95060a8bb6d"
      },
      "source": [
        "multiplication = 7*4 \r\n",
        "print(multiplication)\r\n"
      ],
      "execution_count": null,
      "outputs": [
        {
          "output_type": "stream",
          "text": [
            "28\n"
          ],
          "name": "stdout"
        }
      ]
    },
    {
      "cell_type": "code",
      "metadata": {
        "colab": {
          "base_uri": "https://localhost:8080/"
        },
        "id": "_CrVW4o1wFy7",
        "outputId": "6cf25b8b-fcf8-4dda-da34-401e8c2ab524"
      },
      "source": [
        "\r\n",
        "add = 10+15 \r\n",
        "print(add)\r\n"
      ],
      "execution_count": null,
      "outputs": [
        {
          "output_type": "stream",
          "text": [
            "25\n"
          ],
          "name": "stdout"
        }
      ]
    },
    {
      "cell_type": "code",
      "metadata": {
        "colab": {
          "base_uri": "https://localhost:8080/"
        },
        "id": "31VGKlWhwQH2",
        "outputId": "a09ac9e9-b750-4d54-b055-e026823ed19b"
      },
      "source": [
        "sub = 40-8 \r\n",
        "print(sub)\r\n"
      ],
      "execution_count": null,
      "outputs": [
        {
          "output_type": "stream",
          "text": [
            "32\n"
          ],
          "name": "stdout"
        }
      ]
    },
    {
      "cell_type": "code",
      "metadata": {
        "colab": {
          "base_uri": "https://localhost:8080/"
        },
        "id": "gFZBNWoewZ81",
        "outputId": "2c78fc9a-02da-403a-dba4-e1146679b44c"
      },
      "source": [
        "Exponentiation = 2**10 \r\n",
        "print(Exponentiation)"
      ],
      "execution_count": null,
      "outputs": [
        {
          "output_type": "stream",
          "text": [
            "1024\n"
          ],
          "name": "stdout"
        }
      ]
    },
    {
      "cell_type": "code",
      "metadata": {
        "colab": {
          "base_uri": "https://localhost:8080/"
        },
        "id": "GFXhCjHExPU-",
        "outputId": "5a93a737-570a-4571-b0c9-e9a79a88effb"
      },
      "source": [
        "True_Division = 7/4 \r\n",
        "print(True_Division)\r\n"
      ],
      "execution_count": null,
      "outputs": [
        {
          "output_type": "stream",
          "text": [
            "1.75\n"
          ],
          "name": "stdout"
        }
      ]
    },
    {
      "cell_type": "code",
      "metadata": {
        "colab": {
          "base_uri": "https://localhost:8080/"
        },
        "id": "MLFVQgv8yU_k",
        "outputId": "15e90db7-a984-47d6-ef11-892ca59e25ac"
      },
      "source": [
        "Floor_Division = 7//4 \r\n",
        "print(Floor_Division)\r\n"
      ],
      "execution_count": null,
      "outputs": [
        {
          "output_type": "stream",
          "text": [
            "1\n"
          ],
          "name": "stdout"
        }
      ]
    },
    {
      "cell_type": "code",
      "metadata": {
        "colab": {
          "base_uri": "https://localhost:8080/"
        },
        "id": "29ngnlwWyY-n",
        "outputId": "f7e28aac-75dd-4034-f6df-eb9bb7f74d8a"
      },
      "source": [
        "remainder = 15%7 \r\n",
        "print(remainder)\r\n"
      ],
      "execution_count": null,
      "outputs": [
        {
          "output_type": "stream",
          "text": [
            "1\n"
          ],
          "name": "stdout"
        }
      ]
    },
    {
      "cell_type": "code",
      "metadata": {
        "colab": {
          "base_uri": "https://localhost:8080/"
        },
        "id": "KSgmOA2YzE3l",
        "outputId": "4dfb36ab-2be4-4597-f3e6-d54da650076a"
      },
      "source": [
        "x = 105\r\n",
        "y = 100\r\n",
        "\r\n",
        "\r\n",
        "\r\n",
        "x>y\r\n"
      ],
      "execution_count": null,
      "outputs": [
        {
          "output_type": "execute_result",
          "data": {
            "text/plain": [
              "True"
            ]
          },
          "metadata": {
            "tags": []
          },
          "execution_count": 23
        }
      ]
    },
    {
      "cell_type": "code",
      "metadata": {
        "colab": {
          "base_uri": "https://localhost:8080/"
        },
        "id": "Y4ob4mlZzPQu",
        "outputId": "e46240c7-f208-41d1-d20b-8855d2e0ed9a"
      },
      "source": [
        "x<y\r\n"
      ],
      "execution_count": null,
      "outputs": [
        {
          "output_type": "execute_result",
          "data": {
            "text/plain": [
              "False"
            ]
          },
          "metadata": {
            "tags": []
          },
          "execution_count": 24
        }
      ]
    },
    {
      "cell_type": "code",
      "metadata": {
        "colab": {
          "base_uri": "https://localhost:8080/"
        },
        "id": "rKeQZy9xzUaa",
        "outputId": "05609e2b-cdca-452c-bd9a-1bac978dad4f"
      },
      "source": [
        "x==y\r\n",
        "\r\n"
      ],
      "execution_count": null,
      "outputs": [
        {
          "output_type": "execute_result",
          "data": {
            "text/plain": [
              "False"
            ]
          },
          "metadata": {
            "tags": []
          },
          "execution_count": 25
        }
      ]
    },
    {
      "cell_type": "code",
      "metadata": {
        "colab": {
          "base_uri": "https://localhost:8080/"
        },
        "id": "Mbn8IVK3zoTb",
        "outputId": "7c25ad1d-53fc-4838-b930-78085d91241c"
      },
      "source": [
        "x!=y\r\n",
        "\r\n"
      ],
      "execution_count": null,
      "outputs": [
        {
          "output_type": "execute_result",
          "data": {
            "text/plain": [
              "True"
            ]
          },
          "metadata": {
            "tags": []
          },
          "execution_count": 26
        }
      ]
    },
    {
      "cell_type": "code",
      "metadata": {
        "colab": {
          "base_uri": "https://localhost:8080/"
        },
        "id": "7gqQ5R6GzxrK",
        "outputId": "37660dd8-5eb3-43ef-f3f0-d78e85c188c1"
      },
      "source": [
        "x>=y\r\n"
      ],
      "execution_count": null,
      "outputs": [
        {
          "output_type": "execute_result",
          "data": {
            "text/plain": [
              "True"
            ]
          },
          "metadata": {
            "tags": []
          },
          "execution_count": 27
        }
      ]
    },
    {
      "cell_type": "code",
      "metadata": {
        "colab": {
          "base_uri": "https://localhost:8080/"
        },
        "id": "p6CMM9l9z0mO",
        "outputId": "2040a9fa-ff38-44f0-f002-a5e4825966a9"
      },
      "source": [
        "x<=y\r\n",
        "\r\n"
      ],
      "execution_count": null,
      "outputs": [
        {
          "output_type": "execute_result",
          "data": {
            "text/plain": [
              "False"
            ]
          },
          "metadata": {
            "tags": []
          },
          "execution_count": 28
        }
      ]
    },
    {
      "cell_type": "code",
      "metadata": {
        "id": "r50gWqIxz9DW"
      },
      "source": [
        "x = 3\r\n",
        "y = 10\r\n"
      ],
      "execution_count": null,
      "outputs": []
    },
    {
      "cell_type": "code",
      "metadata": {
        "colab": {
          "base_uri": "https://localhost:8080/"
        },
        "id": "xp2UfXqg0erT",
        "outputId": "1fec8495-5553-41eb-da68-14e06a072327"
      },
      "source": [
        "1 <= x <= 5\r\n",
        "\r\n"
      ],
      "execution_count": null,
      "outputs": [
        {
          "output_type": "execute_result",
          "data": {
            "text/plain": [
              "True"
            ]
          },
          "metadata": {
            "tags": []
          },
          "execution_count": 33
        }
      ]
    },
    {
      "cell_type": "code",
      "metadata": {
        "colab": {
          "base_uri": "https://localhost:8080/"
        },
        "id": "486psAWS0xKm",
        "outputId": "42cb0229-6f18-4639-fdba-23df7a99ea8f"
      },
      "source": [
        "1 <= y <= 5\r\n"
      ],
      "execution_count": null,
      "outputs": [
        {
          "output_type": "execute_result",
          "data": {
            "text/plain": [
              "False"
            ]
          },
          "metadata": {
            "tags": []
          },
          "execution_count": 34
        }
      ]
    },
    {
      "cell_type": "code",
      "metadata": {
        "colab": {
          "base_uri": "https://localhost:8080/"
        },
        "id": "E-jyFKvN08Yb",
        "outputId": "b6bccd56-c28b-46c2-b4d5-bca1176a6ba7"
      },
      "source": [
        "print('Welcome', 'to', 'Python!')\r\n"
      ],
      "execution_count": null,
      "outputs": [
        {
          "output_type": "stream",
          "text": [
            "Welcome to Python!\n"
          ],
          "name": "stdout"
        }
      ]
    },
    {
      "cell_type": "code",
      "metadata": {
        "colab": {
          "base_uri": "https://localhost:8080/"
        },
        "id": "gZv2yLT51NvM",
        "outputId": "54a27258-82c8-4c18-f989-46b828a85cce"
      },
      "source": [
        "print('Welcome\\nto\\n\\nPython!')\r\n",
        "\r\n",
        "\r\n"
      ],
      "execution_count": null,
      "outputs": [
        {
          "output_type": "stream",
          "text": [
            "Welcome\n",
            "to\n",
            "\n",
            "Python!\n"
          ],
          "name": "stdout"
        }
      ]
    },
    {
      "cell_type": "code",
      "metadata": {
        "colab": {
          "base_uri": "https://localhost:8080/"
        },
        "id": "m_ITrS3p1p-k",
        "outputId": "1ddabbc9-37f1-4b73-8660-486d8949c12e"
      },
      "source": [
        "print('this is a longer string, so we  split it over two lines')\r\n",
        "\r\n",
        "\r\n"
      ],
      "execution_count": null,
      "outputs": [
        {
          "output_type": "stream",
          "text": [
            "this is a longer string, so we  split it over two lines\n"
          ],
          "name": "stdout"
        }
      ]
    },
    {
      "cell_type": "code",
      "metadata": {
        "colab": {
          "base_uri": "https://localhost:8080/"
        },
        "id": "Q_IwpTeM1_Q0",
        "outputId": "f5debcb6-b784-4feb-e20e-a6ca2cfeeb95"
      },
      "source": [
        "print('Sum is', 7 + 3)\r\n",
        "\r\n"
      ],
      "execution_count": null,
      "outputs": [
        {
          "output_type": "stream",
          "text": [
            "Sum is 10\n"
          ],
          "name": "stdout"
        }
      ]
    },
    {
      "cell_type": "code",
      "metadata": {
        "colab": {
          "base_uri": "https://localhost:8080/"
        },
        "id": "sSE9a17H7W8s",
        "outputId": "3d635ca3-9f25-4e0e-dbf2-13f21572444a"
      },
      "source": [
        "print('int(5.2)', 'truncates 5.2 to', int(5.2))\r\n"
      ],
      "execution_count": null,
      "outputs": [
        {
          "output_type": "stream",
          "text": [
            "int(5.2) truncates 5.2 to 5\n"
          ],
          "name": "stdout"
        }
      ]
    },
    {
      "cell_type": "code",
      "metadata": {
        "colab": {
          "base_uri": "https://localhost:8080/"
        },
        "id": "bYPhKt_A8kxk",
        "outputId": "07913258-eada-40b3-c23c-163f7b652bca"
      },
      "source": [
        "print('Display \"hi\" in quotes')\r\n"
      ],
      "execution_count": null,
      "outputs": [
        {
          "output_type": "stream",
          "text": [
            "Display \"hi\" in quotes\n"
          ],
          "name": "stdout"
        }
      ]
    },
    {
      "cell_type": "code",
      "metadata": {
        "colab": {
          "base_uri": "https://localhost:8080/"
        },
        "id": "OsUjAfpj83n-",
        "outputId": "a9b47c9c-fe8a-475b-9655-c90ef1c3fb6d"
      },
      "source": [
        "print('Display \\'hi\\' in quotes') #using the \\' escape sequence:\r\n",
        "\r\n"
      ],
      "execution_count": null,
      "outputs": [
        {
          "output_type": "stream",
          "text": [
            "Display 'hi' in quotes\n"
          ],
          "name": "stdout"
        }
      ]
    },
    {
      "cell_type": "code",
      "metadata": {
        "colab": {
          "base_uri": "https://localhost:8080/"
        },
        "id": "OdlmlgzF-C2F",
        "outputId": "d02af58e-88b2-434c-aad3-dcc16dce4997"
      },
      "source": [
        "print(\"Display the name O'Brien\")"
      ],
      "execution_count": null,
      "outputs": [
        {
          "output_type": "stream",
          "text": [
            "Display the name O'Brien\n"
          ],
          "name": "stdout"
        }
      ]
    },
    {
      "cell_type": "code",
      "metadata": {
        "colab": {
          "base_uri": "https://localhost:8080/"
        },
        "id": "GkB8Z2nf-QKy",
        "outputId": "f0879fb4-585c-4673-b4b3-8cb33b4d5348"
      },
      "source": [
        "print(\"Display \\\"hi\\\" in quotes\")\r\n"
      ],
      "execution_count": null,
      "outputs": [
        {
          "output_type": "stream",
          "text": [
            "Display \"hi\" in quotes\n"
          ],
          "name": "stdout"
        }
      ]
    },
    {
      "cell_type": "code",
      "metadata": {
        "colab": {
          "base_uri": "https://localhost:8080/"
        },
        "id": "JueYF4as-d6E",
        "outputId": "2e5c1954-864b-4347-8fc4-f4b49fb281ca"
      },
      "source": [
        "print(\"\"\"Display \"hi\" and 'bye' in quotes\"\"\")\r\n"
      ],
      "execution_count": null,
      "outputs": [
        {
          "output_type": "stream",
          "text": [
            "Display \"hi\" and 'bye' in quotes\n"
          ],
          "name": "stdout"
        }
      ]
    },
    {
      "cell_type": "code",
      "metadata": {
        "colab": {
          "base_uri": "https://localhost:8080/"
        },
        "id": "rLDpDy6N-k3B",
        "outputId": "8c9d8fe9-5a42-4e73-f065-b1457579d192"
      },
      "source": [
        ""
      ],
      "execution_count": null,
      "outputs": [
        {
          "output_type": "stream",
          "text": [
            "This is a triple-quoted string that spans two lines\n"
          ],
          "name": "stdout"
        }
      ]
    },
    {
      "cell_type": "code",
      "metadata": {
        "colab": {
          "base_uri": "https://localhost:8080/"
        },
        "id": "0_eYotz-BcvI",
        "outputId": "d2044aac-1865-4347-fdad-d1f7e70e15b6"
      },
      "source": [
        "print(\"\"\"This is a lengthy multiline string containing a few lines \\\r\n",
        "of text\"\"\")\r\n"
      ],
      "execution_count": null,
      "outputs": [
        {
          "output_type": "stream",
          "text": [
            "This is a lengthy multiline string containing a few lines of text\n"
          ],
          "name": "stdout"
        }
      ]
    },
    {
      "cell_type": "code",
      "metadata": {
        "colab": {
          "base_uri": "https://localhost:8080/"
        },
        "id": "xjndq0dLDlXI",
        "outputId": "6ffc005f-17e5-4fed-9460-e5acfe0a2168"
      },
      "source": [
        "a= 3.4536475856 # using \"%\" to print value till 2 decimal places\r\n",
        "print (\"The value of number till 2 decimal place(using %) is : \",end=\"\") \r\n",
        "print ('%.2f' %a)\r\n"
      ],
      "execution_count": null,
      "outputs": [
        {
          "output_type": "stream",
          "text": [
            "The value of number till 2 decimal place(using %) is : 3.45\n"
          ],
          "name": "stdout"
        }
      ]
    },
    {
      "cell_type": "code",
      "metadata": {
        "colab": {
          "base_uri": "https://localhost:8080/"
        },
        "id": "WuH_by-JEgP2",
        "outputId": "1f323269-f010-4bf1-ef99-b348a48c4167"
      },
      "source": [
        "# using \"%\" to print value till 4 decimal places\r\n",
        "print (\"The value of number till 2 decimal place(using %) is : \",end=\"\") \r\n",
        "print ('%.4f' %a)\r\n"
      ],
      "execution_count": null,
      "outputs": [
        {
          "output_type": "stream",
          "text": [
            "The value of number till 2 decimal place(using %) is : 3.4536\n"
          ],
          "name": "stdout"
        }
      ]
    },
    {
      "cell_type": "code",
      "metadata": {
        "colab": {
          "base_uri": "https://localhost:8080/"
        },
        "id": "QRANW7kZWbbX",
        "outputId": "6deceaff-f80e-4c82-bbc9-30ab50290d0d"
      },
      "source": [
        "name = input(\"What's your name? \")\r\n",
        "\r\n",
        "What's your name?\r\n",
        "print(name)\r\n",
        "\r\n"
      ],
      "execution_count": null,
      "outputs": [
        {
          "output_type": "stream",
          "text": [
            "What's your name? Boby\n",
            "Boby\n"
          ],
          "name": "stdout"
        }
      ]
    },
    {
      "cell_type": "code",
      "metadata": {
        "colab": {
          "base_uri": "https://localhost:8080/"
        },
        "id": "IhZgpF-yXwoB",
        "outputId": "427141d5-4ab1-4ff4-bfdb-d4422154953a"
      },
      "source": [
        "number1 = int(input('Enter first integer: ')) \r\n",
        "number2 = int(input('Enter second integer: ')) \r\n",
        "number3 = int(input('Enter third integer: '))\r\n",
        "\r\n"
      ],
      "execution_count": null,
      "outputs": [
        {
          "output_type": "stream",
          "text": [
            "Enter first integer: 20\n",
            "Enter second integer: 50\n",
            "Enter third integer: 100\n"
          ],
          "name": "stdout"
        }
      ]
    },
    {
      "cell_type": "code",
      "metadata": {
        "colab": {
          "base_uri": "https://localhost:8080/"
        },
        "id": "p3UQLTOfYIaK",
        "outputId": "1337262c-7a46-469b-cb69-640b7fd9eca0"
      },
      "source": [
        "min(number1,number2,number3)\r\n",
        "\r\n"
      ],
      "execution_count": null,
      "outputs": [
        {
          "output_type": "execute_result",
          "data": {
            "text/plain": [
              "20"
            ]
          },
          "metadata": {
            "tags": []
          },
          "execution_count": 87
        }
      ]
    },
    {
      "cell_type": "code",
      "metadata": {
        "colab": {
          "base_uri": "https://localhost:8080/"
        },
        "id": "qYVWiFQ9YMIc",
        "outputId": "8c8b10d2-c2e3-45d7-f1e3-3f830469835d"
      },
      "source": [
        "max(number1,number2,number3)\r\n",
        "\r\n"
      ],
      "execution_count": null,
      "outputs": [
        {
          "output_type": "execute_result",
          "data": {
            "text/plain": [
              "100"
            ]
          },
          "metadata": {
            "tags": []
          },
          "execution_count": 88
        }
      ]
    },
    {
      "cell_type": "code",
      "metadata": {
        "id": "ZTTV9SoRYesT"
      },
      "source": [
        "x=2\r\n",
        "y=3\r\n",
        "\r\n"
      ],
      "execution_count": null,
      "outputs": []
    },
    {
      "cell_type": "code",
      "metadata": {
        "colab": {
          "base_uri": "https://localhost:8080/"
        },
        "id": "RhpDHMBpZQ9h",
        "outputId": "30f6cd77-d66e-4d20-feb5-ac98653119af"
      },
      "source": [
        "print('x =', x)\r\n"
      ],
      "execution_count": null,
      "outputs": [
        {
          "output_type": "stream",
          "text": [
            "x = 2\n"
          ],
          "name": "stdout"
        }
      ]
    },
    {
      "cell_type": "code",
      "metadata": {
        "colab": {
          "base_uri": "https://localhost:8080/"
        },
        "id": "ojm-yAyFZYI-",
        "outputId": "0db174e6-aea0-408f-d038-6022cccb174e"
      },
      "source": [
        "print('Value of', x, '+', x, 'is', (x + x)) \r\n",
        "print('x =')\r\n",
        "\r\n"
      ],
      "execution_count": null,
      "outputs": [
        {
          "output_type": "stream",
          "text": [
            "Value of 2 + 2 is 4\n",
            "x =\n"
          ],
          "name": "stdout"
        }
      ]
    },
    {
      "cell_type": "code",
      "metadata": {
        "colab": {
          "base_uri": "https://localhost:8080/"
        },
        "id": "nQG3J65jelX2",
        "outputId": "e734604e-24ae-4b21-f32a-2fba2182cb24"
      },
      "source": [
        "print((x + y), '=', (y + x))\r\n"
      ],
      "execution_count": null,
      "outputs": [
        {
          "output_type": "stream",
          "text": [
            "5 = 5\n"
          ],
          "name": "stdout"
        }
      ]
    }
  ]
}