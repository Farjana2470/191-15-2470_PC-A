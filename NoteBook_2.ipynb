{
  "nbformat": 4,
  "nbformat_minor": 0,
  "metadata": {
    "colab": {
      "name": "NoteBook 2.ipynb",
      "provenance": [],
      "collapsed_sections": [],
      "authorship_tag": "ABX9TyOGEXRhi1tjonITtG1HEw6s",
      "include_colab_link": true
    },
    "kernelspec": {
      "name": "python3",
      "display_name": "Python 3"
    }
  },
  "cells": [
    {
      "cell_type": "markdown",
      "metadata": {
        "id": "view-in-github",
        "colab_type": "text"
      },
      "source": [
        "<a href=\"https://colab.research.google.com/github/Farjana2470/191-15-2470_PC-A/blob/main/NoteBook_2.ipynb\" target=\"_parent\"><img src=\"https://colab.research.google.com/assets/colab-badge.svg\" alt=\"Open In Colab\"/></a>"
      ]
    },
    {
      "cell_type": "code",
      "metadata": {
        "colab": {
          "base_uri": "https://localhost:8080/"
        },
        "id": "KAzntJTSKlFV",
        "outputId": "dd5b2b04-e2a1-4af8-b883-f5bad35c37fe"
      },
      "source": [
        "grade = 85\r\n",
        "if grade>=60: print(\"passed\")"
      ],
      "execution_count": null,
      "outputs": [
        {
          "output_type": "stream",
          "text": [
            "passed\n"
          ],
          "name": "stdout"
        }
      ]
    },
    {
      "cell_type": "code",
      "metadata": {
        "colab": {
          "base_uri": "https://localhost:8080/"
        },
        "id": "diZbZl-wLAxT",
        "outputId": "fa32c255-17b2-4dd7-b959-5137dec7a741"
      },
      "source": [
        "grade =85\r\n",
        "if grade>=60:\r\n",
        "  print(\"passed\")\r\n",
        "else:\r\n",
        "  print(\"fail\")"
      ],
      "execution_count": null,
      "outputs": [
        {
          "output_type": "stream",
          "text": [
            "passed\n"
          ],
          "name": "stdout"
        }
      ]
    },
    {
      "cell_type": "code",
      "metadata": {
        "id": "8FEF_WphLKdI"
      },
      "source": [
        "result = ('Passed' if grade >= 60 else 'Failed')"
      ],
      "execution_count": null,
      "outputs": []
    },
    {
      "cell_type": "code",
      "metadata": {
        "colab": {
          "base_uri": "https://localhost:8080/"
        },
        "id": "eQl6dytzLfDQ",
        "outputId": "110f8404-0ed5-4a74-ac22-7a8b459cf651"
      },
      "source": [
        "print(result)"
      ],
      "execution_count": null,
      "outputs": [
        {
          "output_type": "stream",
          "text": [
            "Passed\n"
          ],
          "name": "stdout"
        }
      ]
    },
    {
      "cell_type": "code",
      "metadata": {
        "colab": {
          "base_uri": "https://localhost:8080/"
        },
        "id": "o7TUAq3CLiSx",
        "outputId": "b8aa2902-9784-4cf3-b867-148ccdd95f79"
      },
      "source": [
        "grade = 77\r\n",
        "\r\n",
        "if grade >= 90:\r\n",
        "    print('A')\r\n",
        "elif grade >= 80:\r\n",
        "    print('B')\r\n",
        "elif grade >= 70:\r\n",
        "    print('C')\r\n",
        "elif grade >= 60:\r\n",
        "    print('D')\r\n",
        "else:\r\n",
        "    print('F')"
      ],
      "execution_count": null,
      "outputs": [
        {
          "output_type": "stream",
          "text": [
            "C\n"
          ],
          "name": "stdout"
        }
      ]
    },
    {
      "cell_type": "code",
      "metadata": {
        "colab": {
          "base_uri": "https://localhost:8080/"
        },
        "id": "DZxj_ouqLtgO",
        "outputId": "6abeab06-7338-4191-e4f3-57e187cd1c71"
      },
      "source": [
        "number = 1\r\n",
        "\r\n",
        "while (number<10):\r\n",
        "  print(number, end=\" \") #print in same line with space using end =\" \"\r\n",
        "  number+=1"
      ],
      "execution_count": null,
      "outputs": [
        {
          "output_type": "stream",
          "text": [
            "1 2 3 4 5 6 7 8 9 "
          ],
          "name": "stdout"
        }
      ]
    },
    {
      "cell_type": "code",
      "metadata": {
        "id": "j7XZpqW2L7uZ"
      },
      "source": [
        "product = 3\r\n",
        "\r\n",
        "while product<=50:\r\n",
        "  product = product*3"
      ],
      "execution_count": null,
      "outputs": []
    },
    {
      "cell_type": "code",
      "metadata": {
        "colab": {
          "base_uri": "https://localhost:8080/"
        },
        "id": "P_S5BVYwMEBd",
        "outputId": "afca0cae-0930-44f0-ca8c-4655373baa2f"
      },
      "source": [
        "print(product)"
      ],
      "execution_count": null,
      "outputs": [
        {
          "output_type": "stream",
          "text": [
            "81\n"
          ],
          "name": "stdout"
        }
      ]
    },
    {
      "cell_type": "code",
      "metadata": {
        "colab": {
          "base_uri": "https://localhost:8080/"
        },
        "id": "1eEahcRnMUUa",
        "outputId": "0577a942-2f6d-4d95-ab70-4c9a58d36e2b"
      },
      "source": [
        "for character in \"programming\":\r\n",
        "  print(character, end=\" \")"
      ],
      "execution_count": null,
      "outputs": [
        {
          "output_type": "stream",
          "text": [
            "p r o g r a m m i n g "
          ],
          "name": "stdout"
        }
      ]
    },
    {
      "cell_type": "code",
      "metadata": {
        "colab": {
          "base_uri": "https://localhost:8080/"
        },
        "id": "B8zx5pK6McYN",
        "outputId": "a2033cbc-30fd-4f73-c848-2a5a76355ae3"
      },
      "source": [
        "for counter in range(10):\r\n",
        "  print(counter, end=\" \")"
      ],
      "execution_count": null,
      "outputs": [
        {
          "output_type": "stream",
          "text": [
            "0 1 2 3 4 5 6 7 8 9 "
          ],
          "name": "stdout"
        }
      ]
    },
    {
      "cell_type": "code",
      "metadata": {
        "colab": {
          "base_uri": "https://localhost:8080/"
        },
        "id": "N-YeD4Z7Mj65",
        "outputId": "d50bdf3d-4b42-4a46-f6a4-42beb8b2c838"
      },
      "source": [
        "total = 0\r\n",
        "for number in range(1000001):\r\n",
        "  total = total+number\r\n",
        "\r\n",
        "print(total)"
      ],
      "execution_count": null,
      "outputs": [
        {
          "output_type": "stream",
          "text": [
            "500000500000\n"
          ],
          "name": "stdout"
        }
      ]
    },
    {
      "cell_type": "code",
      "metadata": {
        "colab": {
          "base_uri": "https://localhost:8080/"
        },
        "id": "wAAO4GfjMvuY",
        "outputId": "10b606b3-de20-48ec-a7e6-750a2ce43cd5"
      },
      "source": [
        "for number in range(5,10):\r\n",
        "  print(number, end=\" \")"
      ],
      "execution_count": null,
      "outputs": [
        {
          "output_type": "stream",
          "text": [
            "5 6 7 8 9 "
          ],
          "name": "stdout"
        }
      ]
    },
    {
      "cell_type": "code",
      "metadata": {
        "colab": {
          "base_uri": "https://localhost:8080/"
        },
        "id": "SMobAN-CM4td",
        "outputId": "0cace7b2-c715-4a5c-c851-767f79fa791a"
      },
      "source": [
        "for number in range(0,10,2):\r\n",
        "  print(number, end=\" \")"
      ],
      "execution_count": null,
      "outputs": [
        {
          "output_type": "stream",
          "text": [
            "0 2 4 6 8 "
          ],
          "name": "stdout"
        }
      ]
    },
    {
      "cell_type": "code",
      "metadata": {
        "colab": {
          "base_uri": "https://localhost:8080/"
        },
        "id": "IO6GVQdyM_vn",
        "outputId": "3f7b0cec-942f-426f-f7f9-744714e36df8"
      },
      "source": [
        "for number in range(10,0,-2):\r\n",
        "  print(number, end=\" \")"
      ],
      "execution_count": null,
      "outputs": [
        {
          "output_type": "stream",
          "text": [
            "10 8 6 4 2 "
          ],
          "name": "stdout"
        }
      ]
    },
    {
      "cell_type": "code",
      "metadata": {
        "colab": {
          "base_uri": "https://localhost:8080/"
        },
        "id": "tw5jXke6NMXP",
        "outputId": "69a8f28a-7c38-410b-ff8b-43b3690c8447"
      },
      "source": [
        "number =  int(input())"
      ],
      "execution_count": null,
      "outputs": [
        {
          "output_type": "stream",
          "text": [
            "13\n"
          ],
          "name": "stdout"
        }
      ]
    },
    {
      "cell_type": "code",
      "metadata": {
        "colab": {
          "base_uri": "https://localhost:8080/"
        },
        "id": "O2234xUONetR",
        "outputId": "eb4166a1-5437-4caf-e190-a0b86db81086"
      },
      "source": [
        "for i in range(1,11):\r\n",
        "  print(number,\"X\",i,\"=\",number*i)"
      ],
      "execution_count": null,
      "outputs": [
        {
          "output_type": "stream",
          "text": [
            "13 X 1 = 13\n",
            "13 X 2 = 26\n",
            "13 X 3 = 39\n",
            "13 X 4 = 52\n",
            "13 X 5 = 65\n",
            "13 X 6 = 78\n",
            "13 X 7 = 91\n",
            "13 X 8 = 104\n",
            "13 X 9 = 117\n",
            "13 X 10 = 130\n"
          ],
          "name": "stdout"
        }
      ]
    },
    {
      "cell_type": "code",
      "metadata": {
        "colab": {
          "base_uri": "https://localhost:8080/"
        },
        "id": "Ig6F0zTBNyoR",
        "outputId": "3c65b1d9-22d0-47ac-9e10-f6965a8f6689"
      },
      "source": [
        "for left in range(13):\r\n",
        "    for right in range(left,13):\r\n",
        "        print(\"[\"+str(left)+\"|\"+str(right)+\"]\", end =\" \")\r\n",
        "    print()"
      ],
      "execution_count": null,
      "outputs": [
        {
          "output_type": "stream",
          "text": [
            "[0|0] [0|1] [0|2] [0|3] [0|4] [0|5] [0|6] [0|7] [0|8] [0|9] [0|10] [0|11] [0|12] \n",
            "[1|1] [1|2] [1|3] [1|4] [1|5] [1|6] [1|7] [1|8] [1|9] [1|10] [1|11] [1|12] \n",
            "[2|2] [2|3] [2|4] [2|5] [2|6] [2|7] [2|8] [2|9] [2|10] [2|11] [2|12] \n",
            "[3|3] [3|4] [3|5] [3|6] [3|7] [3|8] [3|9] [3|10] [3|11] [3|12] \n",
            "[4|4] [4|5] [4|6] [4|7] [4|8] [4|9] [4|10] [4|11] [4|12] \n",
            "[5|5] [5|6] [5|7] [5|8] [5|9] [5|10] [5|11] [5|12] \n",
            "[6|6] [6|7] [6|8] [6|9] [6|10] [6|11] [6|12] \n",
            "[7|7] [7|8] [7|9] [7|10] [7|11] [7|12] \n",
            "[8|8] [8|9] [8|10] [8|11] [8|12] \n",
            "[9|9] [9|10] [9|11] [9|12] \n",
            "[10|10] [10|11] [10|12] \n",
            "[11|11] [11|12] \n",
            "[12|12] \n"
          ],
          "name": "stdout"
        }
      ]
    },
    {
      "cell_type": "code",
      "metadata": {
        "colab": {
          "base_uri": "https://localhost:8080/"
        },
        "id": "oK9aDMMwOMoO",
        "outputId": "b83b6629-fabd-441e-db71-56796f067d93"
      },
      "source": [
        "for number in range(20):\r\n",
        "  if  number==10:\r\n",
        "    break\r\n",
        "  print(number, end=\" \") "
      ],
      "execution_count": null,
      "outputs": [
        {
          "output_type": "stream",
          "text": [
            "0 1 2 3 4 5 6 7 8 9 "
          ],
          "name": "stdout"
        }
      ]
    },
    {
      "cell_type": "code",
      "metadata": {
        "colab": {
          "base_uri": "https://localhost:8080/"
        },
        "id": "6VFTOeOmOZyL",
        "outputId": "b1989b88-7a22-45e2-fc7f-5aa7e762ab71"
      },
      "source": [
        "for number in range(20):\r\n",
        "  if  number==10:\r\n",
        "    continue\r\n",
        "  print(number, end=\" \")"
      ],
      "execution_count": null,
      "outputs": [
        {
          "output_type": "stream",
          "text": [
            "0 1 2 3 4 5 6 7 8 9 11 12 13 14 15 16 17 18 19 "
          ],
          "name": "stdout"
        }
      ]
    },
    {
      "cell_type": "code",
      "metadata": {
        "colab": {
          "base_uri": "https://localhost:8080/"
        },
        "id": "pcxQIUcYVALh",
        "outputId": "0034dbf4-70f4-4b79-c002-706516f626e9"
      },
      "source": [
        "a = int(input())\r\n",
        "b = int(input())\r\n",
        "x = a + b\r\n",
        "print(\"X = %i\"% x)"
      ],
      "execution_count": null,
      "outputs": [
        {
          "output_type": "stream",
          "text": [
            "-10\n",
            "4\n",
            "X = -6\n"
          ],
          "name": "stdout"
        }
      ]
    },
    {
      "cell_type": "code",
      "metadata": {
        "colab": {
          "base_uri": "https://localhost:8080/"
        },
        "id": "zrHIEU-ZVczX",
        "outputId": "37c4d154-9d3f-4bd8-d6ab-aa5b4a3f387a"
      },
      "source": [
        "r = float(input())\r\n",
        "pi = 3.14159\r\n",
        "a = pi * (pow(r,2))\r\n",
        "print(\"A=%.4f\"% a)"
      ],
      "execution_count": null,
      "outputs": [
        {
          "output_type": "stream",
          "text": [
            "150.00\n",
            "A=70685.7750\n"
          ],
          "name": "stdout"
        }
      ]
    },
    {
      "cell_type": "code",
      "metadata": {
        "colab": {
          "base_uri": "https://localhost:8080/"
        },
        "id": "Si3zVpZ0WZbO",
        "outputId": "b430ccb1-2892-41c3-f896-7080b503f1f9"
      },
      "source": [
        " a= int(input())\r\n",
        " b= int(input())\r\n",
        " c= int(input())\r\n",
        " d= int(input())\r\n",
        " difference=((a * b) - (c * d))\r\n",
        " print(f'DIFERENCA = {difference}')  "
      ],
      "execution_count": null,
      "outputs": [
        {
          "output_type": "stream",
          "text": [
            "5\n",
            "6\n",
            "-7\n",
            "8\n",
            "DIFERENCA = 86\n"
          ],
          "name": "stdout"
        }
      ]
    },
    {
      "cell_type": "code",
      "metadata": {
        "colab": {
          "base_uri": "https://localhost:8080/"
        },
        "id": "iLfhzlquYHpU",
        "outputId": "bc232084-02eb-40d2-c1bf-324c4425aca3"
      },
      "source": [
        "D = int(input())\r\n",
        "Y = int(D/365)\r\n",
        "D = int(D%365)\r\n",
        "M = int(D/30)\r\n",
        "D = D%30\r\n",
        "print(\"%d ano(s)\"%Y)\r\n",
        "print(\"%d mes(es)\"%M)\r\n",
        "print(\"%d dia(s)\"%D)"
      ],
      "execution_count": null,
      "outputs": [
        {
          "output_type": "stream",
          "text": [
            "800\n",
            "2 ano(s)\n",
            "2 mes(es)\n",
            "10 dia(s)\n"
          ],
          "name": "stdout"
        }
      ]
    }
  ]
}